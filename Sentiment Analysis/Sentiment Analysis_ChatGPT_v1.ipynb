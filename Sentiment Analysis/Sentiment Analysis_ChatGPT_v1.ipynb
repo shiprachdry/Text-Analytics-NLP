{
 "cells": [
  {
   "cell_type": "markdown",
   "id": "7be16349",
   "metadata": {},
   "source": [
    "## POC: Sentiment analysis on user reviews using chatgpt API\n",
    "\n",
    "##### Input: User can upload a csv of reviews ( Beer reviews scraped from https://www.beeradvocate.com/beer/top-rated/) or based use internal survey results\n",
    "##### Output: Sentiment score or label (positive/negative) as defined on the reviews\n",
    "##### Transformer user: Chat GPT 3.5 16K"
   ]
  },
  {
   "cell_type": "markdown",
   "id": "fdcfab12",
   "metadata": {},
   "source": [
    "#### Which LLM is more accurate for sentiment analysis: VADER vs Hugging face transformer vs ChatGPT?"
   ]
  },
  {
   "cell_type": "markdown",
   "id": "6fef8708",
   "metadata": {},
   "source": [
    "Review from BeerAdvocate.com: (16 oz can, canned on 11/18/22, F5670; purchased 4-pack off shelf at Shangy's... poured into a fat tulip)\\n\\nL: slightly-hazy medium amber-colored liquid; not a huge head on the pour, but it's tight with a frayed cotton contour... only holds a thin collar, thin misty cap; does leave a big band of lace oppo of sip spot\\n\\nS: very floral initial pop (rosewater), followed by some fleshy orange pulp, lemon/grapefruit zest, background hint of pine... a little honeyish malt wants to poke through... gummy orange slices... only a soft essence of alcohol... excellent overall intensity\\n\\nT: citrus kiss, but a rush of florality right behind it... the aftertaste is spicy, with a green bitterness that slowly swells... certainly a big malty base, with a muffin/cakey quality, but it's sodden with hop resins... vague dried pale-colored fruit (apricot, sultana) slowly creeps into the aftertaste, while the residual bitterness grows some peppery hair to it... the volume on the bitterness just keeps increasing, speakers cracking and shaking; hop artifacts emerge\\n\\nF: its bitter bite takes hold on the tongue, mildly intensified by the ethanol, which sets and singes (and yet cools?!) a touch near the back of the palate... its body and resins make for a silky lusciousness up front, giving way to a growing heat; soft carbonation\\n\\nO: why did this take so long to be released out east here(?), especially considering Furious had been here for years now; this was the first Surly beer I ever heard of c. 2011 (though Darkness and Bender weren't far behind)... I am going to try the next can in a pint, which they're website suggests is the preferred vessel... aggressive and comforting (2081)\"\n",
    "\n",
    "\n",
    "#### Human evaluation of the review is positve "
   ]
  },
  {
   "cell_type": "code",
   "execution_count": 147,
   "id": "8350ef9f",
   "metadata": {
    "scrolled": true
   },
   "outputs": [
    {
     "name": "stdout",
     "output_type": "stream",
     "text": [
      "Vader sentiment analysis score : \n"
     ]
    },
    {
     "data": {
      "text/plain": [
       "{'neg': 0.117, 'neu': 0.818, 'pos': 0.064, 'compound': -0.9313}"
      ]
     },
     "execution_count": 147,
     "metadata": {},
     "output_type": "execute_result"
    }
   ],
   "source": [
    "review = \"(16 oz can, canned on 11/18/22, F5670; purchased 4-pack off shelf at Shangy's... poured into a fat tulip)\\n\\nL: slightly-hazy medium amber-colored liquid; not a huge head on the pour, but it's tight with a frayed cotton contour... only holds a thin collar, thin misty cap; does leave a big band of lace oppo of sip spot\\n\\nS: very floral initial pop (rosewater), followed by some fleshy orange pulp, lemon/grapefruit zest, background hint of pine... a little honeyish malt wants to poke through... gummy orange slices... only a soft essence of alcohol... excellent overall intensity\\n\\nT: citrus kiss, but a rush of florality right behind it... the aftertaste is spicy, with a green bitterness that slowly swells... certainly a big malty base, with a muffin/cakey quality, but it's sodden with hop resins... vague dried pale-colored fruit (apricot, sultana) slowly creeps into the aftertaste, while the residual bitterness grows some peppery hair to it... the volume on the bitterness just keeps increasing, speakers cracking and shaking; hop artifacts emerge\\n\\nF: its bitter bite takes hold on the tongue, mildly intensified by the ethanol, which sets and singes (and yet cools?!) a touch near the back of the palate... its body and resins make for a silky lusciousness up front, giving way to a growing heat; soft carbonation\\n\\nO: why did this take so long to be released out east here(?), especially considering Furious had been here for years now; this was the first Surly beer I ever heard of c. 2011 (though Darkness and Bender weren't far behind)... I am going to try the next can in a pint, which they're website suggests is the preferred vessel... aggressive and comforting (2081)\"\n",
    "print(\"Vader sentiment analysis score : \")\n",
    "analyzer.polarity_scores(review)"
   ]
  },
  {
   "cell_type": "markdown",
   "id": "2b4a043c",
   "metadata": {},
   "source": [
    "#### Vader sentiment analysis is negative"
   ]
  },
  {
   "cell_type": "code",
   "execution_count": null,
   "id": "1c16c2e4",
   "metadata": {},
   "outputs": [],
   "source": [
    "import transformers\n",
    "from transformers import pipeline\n",
    "sentiment_pipeline = pipeline(\"sentiment-analysis\")"
   ]
  },
  {
   "cell_type": "code",
   "execution_count": 148,
   "id": "611d8332",
   "metadata": {},
   "outputs": [
    {
     "name": "stdout",
     "output_type": "stream",
     "text": [
      "Huggingface transoformer sentiment analysis score : \n"
     ]
    },
    {
     "data": {
      "text/plain": [
       "[{'label': 'NEGATIVE', 'score': 0.9890099167823792}]"
      ]
     },
     "execution_count": 148,
     "metadata": {},
     "output_type": "execute_result"
    }
   ],
   "source": [
    "print(\"Huggingface transoformer sentiment analysis score : \")\n",
    "sentiment_pipeline(review)"
   ]
  },
  {
   "cell_type": "markdown",
   "id": "86b47a18",
   "metadata": {},
   "source": [
    "#### Huggingface Transformer sentiment analysis is negative"
   ]
  },
  {
   "cell_type": "code",
   "execution_count": 149,
   "id": "b9ab0e91",
   "metadata": {},
   "outputs": [
    {
     "name": "stdout",
     "output_type": "stream",
     "text": [
      "ChatGPT sentiment analysis : \n"
     ]
    },
    {
     "data": {
      "text/plain": [
       "'positive'"
      ]
     },
     "execution_count": 149,
     "metadata": {},
     "output_type": "execute_result"
    }
   ],
   "source": [
    "print(\"ChatGPT sentiment analysis : \")\n",
    "sentiment_analysis_api(review)"
   ]
  },
  {
   "cell_type": "markdown",
   "id": "c7cc2fdf",
   "metadata": {},
   "source": [
    "#### ChatGPT sentiment analysis is positive"
   ]
  },
  {
   "cell_type": "markdown",
   "id": "1296aadc",
   "metadata": {},
   "source": [
    "### Initiating a Chatgpt 3.5 api call using SAP LLM API request"
   ]
  },
  {
   "cell_type": "code",
   "execution_count": 2,
   "id": "01c754fb",
   "metadata": {},
   "outputs": [],
   "source": [
    "import json\n",
    "from ipywidgets import widgets\n",
    "import os\n",
    "import requests"
   ]
  },
  {
   "cell_type": "code",
   "execution_count": 3,
   "id": "b537236c",
   "metadata": {},
   "outputs": [],
   "source": [
    "# Replace this with the secret key (sk.txt) provided\n",
    "with open('irpa-r701-genaixl-customer-fd-sk.txt') as f:\n",
    "    sk = json.load(f)\n",
    "    \n",
    "# Replace this with the resource group provided\n",
    "resource_group = widgets.Text(\n",
    "    value='e98ee3d7-45fa-43cb-8773-fb106ed18d69', # encrypted resource group\n",
    "    placeholder='Resource group of deployments',\n",
    "    description='',\n",
    "    disabled=False\n",
    ")\n",
    "resource_group\n",
    "\n",
    "os.environ['AICORE_LLM_AUTH_URL'] = sk['url']+\"/oauth/token\"\n",
    "os.environ['AICORE_LLM_CLIENT_ID'] = sk['clientid']\n",
    "os.environ['AICORE_LLM_CLIENT_SECRET'] = sk['clientsecret']\n",
    "os.environ['AICORE_LLM_API_BASE'] = sk[\"serviceurls\"][\"AI_API_URL\"]+ \"/v2\"\n",
    "os.environ['AICORE_LLM_RESOURCE_GROUP'] = resource_group.value\n",
    "os.environ['LLM_COMMONS_PROXY'] = 'aicore'\n",
    "\n",
    "response = requests.post(\n",
    "        f'{os.environ[\"AICORE_LLM_AUTH_URL\"]}/oauth/token',\n",
    "        data={\"grant_type\": \"client_credentials\"},\n",
    "        auth=(os.environ['AICORE_LLM_CLIENT_ID'], os.environ['AICORE_LLM_CLIENT_SECRET']),\n",
    "        timeout=8000,\n",
    ")\n",
    "auth_token = response.json()[\"access_token\"]\n",
    "\n",
    "## Copy deployment URL from AILaunchPad or Wiki page shared by Usecase team\n",
    "deployment_url= \"https://api.ai.prod.eu-central-1.aws.ml.hana.ondemand.com/v2/inference/deployments/dc4baab3a2f39a69\""
   ]
  },
  {
   "cell_type": "markdown",
   "id": "b747d147",
   "metadata": {},
   "source": [
    "#### Defining Sentiment_analysis function to classify a user review (input) as positive or negative"
   ]
  },
  {
   "cell_type": "code",
   "execution_count": 107,
   "id": "77093015",
   "metadata": {},
   "outputs": [],
   "source": [
    "# Preparing the input for inference\n",
    "def sentiment_analysis_api(text):\n",
    "    review=f\"Classify this review as a positive or negative review in one word:{text}\"\n",
    "    test_input = {\n",
    "        \"model\" : \"gpt-35-turbo-16k\",\n",
    "        \"messages\" : [{ \"content\": review,\"role\": \"user\"}],\n",
    "        \"max_tokens\": 800\n",
    "    }\n",
    "    endpoint = f\"{deployment_url}/chat/completions?api-version=2023-05-15\" # endpoint implemented in serving engine\n",
    "    #print(endpoint)\n",
    "    headers = {\"Authorization\": f\"Bearer {auth_token}\",\n",
    "               'ai-resource-group': resource_group.value,\n",
    "               \"Content-Type\": \"application/json\"}\n",
    "    response = requests.post(endpoint, headers=headers, json=test_input)\n",
    "    #converting the response to Json dictionary format in python to read the content\n",
    "    data = response.json()\n",
    "    return data['choices'][0]['message']['content']\n",
    "\n",
    "#sentiment_analysis_api(\"I don't like my iphone\")"
   ]
  },
  {
   "cell_type": "markdown",
   "id": "e6d83edb",
   "metadata": {},
   "source": [
    "#### Reading a csv file with customer feeback data"
   ]
  },
  {
   "cell_type": "code",
   "execution_count": 117,
   "id": "633ec130",
   "metadata": {},
   "outputs": [],
   "source": [
    "import pandas as pd\n",
    "reviews_df=pd.read_csv('Feedback survey.csv')\n",
    "reviews_df.rename(columns={'Please let us know your comments or further feedback.': 'Feedback'},inplace=True)"
   ]
  },
  {
   "cell_type": "markdown",
   "id": "73b1ac32",
   "metadata": {},
   "source": [
    "#### Calling chatgpt api on the user review column & storing response from chatgpt in another column - sentiment"
   ]
  },
  {
   "cell_type": "code",
   "execution_count": 119,
   "id": "e79446ec",
   "metadata": {},
   "outputs": [],
   "source": [
    "reviews_df['sentiment']= reviews_df['Feedback'].apply(lambda review:sentiment_analysis_api(review))"
   ]
  },
  {
   "cell_type": "code",
   "execution_count": 135,
   "id": "b2440dea",
   "metadata": {},
   "outputs": [
    {
     "data": {
      "text/html": [
       "<div>\n",
       "<style scoped>\n",
       "    .dataframe tbody tr th:only-of-type {\n",
       "        vertical-align: middle;\n",
       "    }\n",
       "\n",
       "    .dataframe tbody tr th {\n",
       "        vertical-align: top;\n",
       "    }\n",
       "\n",
       "    .dataframe thead th {\n",
       "        text-align: right;\n",
       "    }\n",
       "</style>\n",
       "<table border=\"1\" class=\"dataframe\">\n",
       "  <thead>\n",
       "    <tr style=\"text-align: right;\">\n",
       "      <th></th>\n",
       "      <th>Board Area</th>\n",
       "      <th>Region</th>\n",
       "      <th>Feedback</th>\n",
       "      <th>sentiment</th>\n",
       "    </tr>\n",
       "  </thead>\n",
       "  <tbody>\n",
       "    <tr>\n",
       "      <th>0</th>\n",
       "      <td>Customer Success</td>\n",
       "      <td>Latin America</td>\n",
       "      <td>Great services, great team.</td>\n",
       "      <td>positive</td>\n",
       "    </tr>\n",
       "    <tr>\n",
       "      <th>11</th>\n",
       "      <td>Customer Success</td>\n",
       "      <td>North America</td>\n",
       "      <td>The information I receive from our Portal, HRDirect, and Recruiting is difficult to consume, often takes multiple requests, not responded to timely and follow-ups or escalations are necessary to be provided the necessary information for the business.  Working with my HR Business Partner is outstanding.  She is thoughtful, responsive and knowledgable - a true business partner.  When navigating complex organization situations and changes she is able to work with us to ensure the best outcome for our employees, the business and ultimately creating a positive impact for our Customers.</td>\n",
       "      <td>Mixed</td>\n",
       "    </tr>\n",
       "    <tr>\n",
       "      <th>14</th>\n",
       "      <td>Customer Success</td>\n",
       "      <td>EMEA South</td>\n",
       "      <td>Siloed and complicated. \\nTotal rewards act as if they were running the company without requisite experience, knowledge, or deep-dive understanding of unique market and individual circumstances. Lack of flexibility is a nightmare also tjj on leaders that become disenfranchised. This applies to comp, exceptions, SpiFF’s… \\nPiepelining of talent is non-existent. \\nHR is friendly otherwise but not a challenging and value-adding business partner.</td>\n",
       "      <td>Negative</td>\n",
       "    </tr>\n",
       "  </tbody>\n",
       "</table>\n",
       "</div>"
      ],
      "text/plain": [
       "          Board Area         Region  \\\n",
       "0   Customer Success  Latin America   \n",
       "11  Customer Success  North America   \n",
       "14  Customer Success     EMEA South   \n",
       "\n",
       "                                                                                                                                                                                                                                                                                                                                                                                                                                                                                                                                                                                                       Feedback  \\\n",
       "0                                                                                                                                                                                                                                                                                                                                                                                                                                                                                                                                                                                   Great services, great team.   \n",
       "11  The information I receive from our Portal, HRDirect, and Recruiting is difficult to consume, often takes multiple requests, not responded to timely and follow-ups or escalations are necessary to be provided the necessary information for the business.  Working with my HR Business Partner is outstanding.  She is thoughtful, responsive and knowledgable - a true business partner.  When navigating complex organization situations and changes she is able to work with us to ensure the best outcome for our employees, the business and ultimately creating a positive impact for our Customers.   \n",
       "14                                                                                                                                              Siloed and complicated. \\nTotal rewards act as if they were running the company without requisite experience, knowledge, or deep-dive understanding of unique market and individual circumstances. Lack of flexibility is a nightmare also tjj on leaders that become disenfranchised. This applies to comp, exceptions, SpiFF’s… \\nPiepelining of talent is non-existent. \\nHR is friendly otherwise but not a challenging and value-adding business partner.    \n",
       "\n",
       "   sentiment  \n",
       "0   positive  \n",
       "11     Mixed  \n",
       "14  Negative  "
      ]
     },
     "execution_count": 135,
     "metadata": {},
     "output_type": "execute_result"
    }
   ],
   "source": [
    "pd.set_option('display.max_colwidth', None)\n",
    "reviews_df.loc[[0,11,14],:]"
   ]
  },
  {
   "cell_type": "markdown",
   "id": "20714992",
   "metadata": {},
   "source": [
    "### Sentiment analysis on beer reviews scrapped from https://www.beeradvocate.com/beer/top-rated/ using beautifulsoup"
   ]
  },
  {
   "cell_type": "code",
   "execution_count": 103,
   "id": "a08a1f7c",
   "metadata": {},
   "outputs": [
    {
     "data": {
      "text/html": [
       "<div>\n",
       "<style scoped>\n",
       "    .dataframe tbody tr th:only-of-type {\n",
       "        vertical-align: middle;\n",
       "    }\n",
       "\n",
       "    .dataframe tbody tr th {\n",
       "        vertical-align: top;\n",
       "    }\n",
       "\n",
       "    .dataframe thead th {\n",
       "        text-align: right;\n",
       "    }\n",
       "</style>\n",
       "<table border=\"1\" class=\"dataframe\">\n",
       "  <thead>\n",
       "    <tr style=\"text-align: right;\">\n",
       "      <th></th>\n",
       "      <th>username</th>\n",
       "      <th>beername</th>\n",
       "      <th>user_rating</th>\n",
       "      <th>user_review</th>\n",
       "    </tr>\n",
       "  </thead>\n",
       "  <tbody>\n",
       "    <tr>\n",
       "      <th>0</th>\n",
       "      <td>MonDak_Joe1953</td>\n",
       "      <td>Kentucky Brunch Brand Stout</td>\n",
       "      <td>4.71</td>\n",
       "      <td>Tap pour at the taproom. Served chilled in a small snifter glass.\\nBlack colored body. No lasting head. No lacing, but leaves a sheen.\\nAroma of dark roasted malt, bourbon barrel, maple syrup, caramel, toffee, and a bit of dark fruit/cherry.\\nTaste is sweet from the maple syrup and bourbon barrel, also vanilla. Flavors of fudge chocolate, caramel, toffee, and dark fruit - cherry and figs. Long lasting aftertaste with chocolate, bourbon, and toffee.\\nThicker mouthfeel with syrup. Higher ABV% only detected in the vapors. Quiet carbonation.\\nRich and decadent dessert beer. Treat of the day, and from the source.</td>\n",
       "    </tr>\n",
       "    <tr>\n",
       "      <th>1</th>\n",
       "      <td>Rristow</td>\n",
       "      <td>Kentucky Brunch Brand Stout</td>\n",
       "      <td>5.00</td>\n",
       "      <td>The perfect barrel aged stout. Not overly sweet, nice barrel notes with coffee and maple. Just delish!</td>\n",
       "    </tr>\n",
       "    <tr>\n",
       "      <th>2</th>\n",
       "      <td>BEERchitect</td>\n",
       "      <td>Kentucky Brunch Brand Stout</td>\n",
       "      <td>4.80</td>\n",
       "      <td>The flirtation with maple comes to a crescendo in Toppling Goliath's imperial maple, coffee and bourbon barrel aged stout.\\n\\nKentucky Brunch Brand Stout shows that something special is up when it pours with an inky impression of black brandy equipped with sticky legging swirling around an ominously still beer. As a sultry, savory and oh-so seductive scent pulls from the onyx-black beer, the mouth waters with the scent of espresso, dark chocolate, maple, sweet bourbon and port wine. Expectedly sweet, the toasty malts bring out the flavor of maple-dipped chocolate, chocolate covered espresso bean, bourbon ball candies and whisky laced molasses.\\n\\nBold, savory, sweet and mouth coating on the middle palate, the boldness of the stout remains in check while the more roasty edges pull from the sweetness with espresso roast, toasty, smoky and baker's chocolate that all trend spicy, lightly bitter and balancing with a chest warming offset of bourbon and all of its caramel, vanilla, toasted oak and peppery whisky flavors in closure.\\n\\nObviously full, rich and lavishly malted from start to finish, the stout finishes on a drying track in an off-pastry mouthfeel of spice, light bitterness and port-like warmth. It's a masterful stout that belongs on such lofty pedestals.</td>\n",
       "    </tr>\n",
       "    <tr>\n",
       "      <th>3</th>\n",
       "      <td>cdinardo21</td>\n",
       "      <td>Kentucky Brunch Brand Stout</td>\n",
       "      <td>4.98</td>\n",
       "      <td>On tap at TG for part of KBBS release day - rating 2023 version; perfect black color. This is an amazing blend richness, dessert and coffee; the barrel is perfectly complimentary and not overpowering. The sweetness is palatable rather than making your teeth hurt. The mouthfeel is thick and silky. Overall, one of the best beers I've had.</td>\n",
       "    </tr>\n",
       "    <tr>\n",
       "      <th>4</th>\n",
       "      <td>GreenBayBA</td>\n",
       "      <td>Kentucky Brunch Brand Stout</td>\n",
       "      <td>4.70</td>\n",
       "      <td>Perfect black color. I didn't see much foam, other than a brown ring. The smell is a perfect blend of maple, coffee, chocolate, and bourbon. The taste is strong with maple. Almost too strong. Chocolate follows, with coffee, bourbon, and vanilla. It is very sweet. The mouthfeel is thick, smooth, lucious, and full. Very nice. Overall, this is a wonderful beer, but there is too much maple flavor for it to be one of my favorite beers.</td>\n",
       "    </tr>\n",
       "  </tbody>\n",
       "</table>\n",
       "</div>"
      ],
      "text/plain": [
       "         username                     beername  user_rating  \\\n",
       "0  MonDak_Joe1953  Kentucky Brunch Brand Stout         4.71   \n",
       "1         Rristow  Kentucky Brunch Brand Stout         5.00   \n",
       "2     BEERchitect  Kentucky Brunch Brand Stout         4.80   \n",
       "3      cdinardo21  Kentucky Brunch Brand Stout         4.98   \n",
       "4      GreenBayBA  Kentucky Brunch Brand Stout         4.70   \n",
       "\n",
       "                                                                                                                                                                                                                                                                                                                                                                                                                                                                                                                                                                                                                                                                                                                                                                                                                                                                                                                                                                                                                                                                                                                                                                                                                                                                                                                        user_review  \n",
       "0                                                                                                                                                                                                                                                                                                                                                                                                                                                                                                                                                                                                                                                                                           Tap pour at the taproom. Served chilled in a small snifter glass.\\nBlack colored body. No lasting head. No lacing, but leaves a sheen.\\nAroma of dark roasted malt, bourbon barrel, maple syrup, caramel, toffee, and a bit of dark fruit/cherry.\\nTaste is sweet from the maple syrup and bourbon barrel, also vanilla. Flavors of fudge chocolate, caramel, toffee, and dark fruit - cherry and figs. Long lasting aftertaste with chocolate, bourbon, and toffee.\\nThicker mouthfeel with syrup. Higher ABV% only detected in the vapors. Quiet carbonation.\\nRich and decadent dessert beer. Treat of the day, and from the source.  \n",
       "1                                                                                                                                                                                                                                                                                                                                                                                                                                                                                                                                                                                                                                                                                                                                                                                                                                                                                                                                                                                                                                                                                                                                                                                                                            The perfect barrel aged stout. Not overly sweet, nice barrel notes with coffee and maple. Just delish!  \n",
       "2  The flirtation with maple comes to a crescendo in Toppling Goliath's imperial maple, coffee and bourbon barrel aged stout.\\n\\nKentucky Brunch Brand Stout shows that something special is up when it pours with an inky impression of black brandy equipped with sticky legging swirling around an ominously still beer. As a sultry, savory and oh-so seductive scent pulls from the onyx-black beer, the mouth waters with the scent of espresso, dark chocolate, maple, sweet bourbon and port wine. Expectedly sweet, the toasty malts bring out the flavor of maple-dipped chocolate, chocolate covered espresso bean, bourbon ball candies and whisky laced molasses.\\n\\nBold, savory, sweet and mouth coating on the middle palate, the boldness of the stout remains in check while the more roasty edges pull from the sweetness with espresso roast, toasty, smoky and baker's chocolate that all trend spicy, lightly bitter and balancing with a chest warming offset of bourbon and all of its caramel, vanilla, toasted oak and peppery whisky flavors in closure.\\n\\nObviously full, rich and lavishly malted from start to finish, the stout finishes on a drying track in an off-pastry mouthfeel of spice, light bitterness and port-like warmth. It's a masterful stout that belongs on such lofty pedestals.  \n",
       "3                                                                                                                                                                                                                                                                                                                                                                                                                                                                                                                                                                                                                                                                                                                                                                                                                                                                                                                                                                                On tap at TG for part of KBBS release day - rating 2023 version; perfect black color. This is an amazing blend richness, dessert and coffee; the barrel is perfectly complimentary and not overpowering. The sweetness is palatable rather than making your teeth hurt. The mouthfeel is thick and silky. Overall, one of the best beers I've had.  \n",
       "4                                                                                                                                                                                                                                                                                                                                                                                                                                                                                                                                                                                                                                                                                                                                                                                                                                                                                Perfect black color. I didn't see much foam, other than a brown ring. The smell is a perfect blend of maple, coffee, chocolate, and bourbon. The taste is strong with maple. Almost too strong. Chocolate follows, with coffee, bourbon, and vanilla. It is very sweet. The mouthfeel is thick, smooth, lucious, and full. Very nice. Overall, this is a wonderful beer, but there is too much maple flavor for it to be one of my favorite beers.  "
      ]
     },
     "execution_count": 103,
     "metadata": {},
     "output_type": "execute_result"
    }
   ],
   "source": [
    "beer_reviews_df=pd.read_csv('Reviews.csv')\n",
    "beer_reviews_df.drop('Unnamed: 0',axis=1,inplace=True)\n",
    "beer_reviews_df.head()"
   ]
  },
  {
   "cell_type": "markdown",
   "id": "813fc973",
   "metadata": {},
   "source": [
    "#### Sentiment analysis using chatgpt api call"
   ]
  },
  {
   "cell_type": "code",
   "execution_count": 114,
   "id": "edb9b6b3",
   "metadata": {
    "scrolled": true
   },
   "outputs": [
    {
     "data": {
      "text/html": [
       "<div>\n",
       "<style scoped>\n",
       "    .dataframe tbody tr th:only-of-type {\n",
       "        vertical-align: middle;\n",
       "    }\n",
       "\n",
       "    .dataframe tbody tr th {\n",
       "        vertical-align: top;\n",
       "    }\n",
       "\n",
       "    .dataframe thead th {\n",
       "        text-align: right;\n",
       "    }\n",
       "</style>\n",
       "<table border=\"1\" class=\"dataframe\">\n",
       "  <thead>\n",
       "    <tr style=\"text-align: right;\">\n",
       "      <th></th>\n",
       "      <th>username</th>\n",
       "      <th>beername</th>\n",
       "      <th>user_rating</th>\n",
       "      <th>user_review</th>\n",
       "      <th>sentiment</th>\n",
       "    </tr>\n",
       "  </thead>\n",
       "  <tbody>\n",
       "    <tr>\n",
       "      <th>0</th>\n",
       "      <td>MonDak_Joe1953</td>\n",
       "      <td>Kentucky Brunch Brand Stout</td>\n",
       "      <td>4.71</td>\n",
       "      <td>Tap pour at the taproom. Served chilled in a small snifter glass.\\nBlack colored body. No lasting head. No lacing, but leaves a sheen.\\nAroma of dark roasted malt, bourbon barrel, maple syrup, caramel, toffee, and a bit of dark fruit/cherry.\\nTaste is sweet from the maple syrup and bourbon barrel, also vanilla. Flavors of fudge chocolate, caramel, toffee, and dark fruit - cherry and figs. Long lasting aftertaste with chocolate, bourbon, and toffee.\\nThicker mouthfeel with syrup. Higher ABV% only detected in the vapors. Quiet carbonation.\\nRich and decadent dessert beer. Treat of the day, and from the source.</td>\n",
       "      <td>Positive</td>\n",
       "    </tr>\n",
       "    <tr>\n",
       "      <th>1</th>\n",
       "      <td>Rristow</td>\n",
       "      <td>Kentucky Brunch Brand Stout</td>\n",
       "      <td>5.00</td>\n",
       "      <td>The perfect barrel aged stout. Not overly sweet, nice barrel notes with coffee and maple. Just delish!</td>\n",
       "      <td>Positive</td>\n",
       "    </tr>\n",
       "    <tr>\n",
       "      <th>2</th>\n",
       "      <td>BEERchitect</td>\n",
       "      <td>Kentucky Brunch Brand Stout</td>\n",
       "      <td>4.80</td>\n",
       "      <td>The flirtation with maple comes to a crescendo in Toppling Goliath's imperial maple, coffee and bourbon barrel aged stout.\\n\\nKentucky Brunch Brand Stout shows that something special is up when it pours with an inky impression of black brandy equipped with sticky legging swirling around an ominously still beer. As a sultry, savory and oh-so seductive scent pulls from the onyx-black beer, the mouth waters with the scent of espresso, dark chocolate, maple, sweet bourbon and port wine. Expectedly sweet, the toasty malts bring out the flavor of maple-dipped chocolate, chocolate covered espresso bean, bourbon ball candies and whisky laced molasses.\\n\\nBold, savory, sweet and mouth coating on the middle palate, the boldness of the stout remains in check while the more roasty edges pull from the sweetness with espresso roast, toasty, smoky and baker's chocolate that all trend spicy, lightly bitter and balancing with a chest warming offset of bourbon and all of its caramel, vanilla, toasted oak and peppery whisky flavors in closure.\\n\\nObviously full, rich and lavishly malted from start to finish, the stout finishes on a drying track in an off-pastry mouthfeel of spice, light bitterness and port-like warmth. It's a masterful stout that belongs on such lofty pedestals.</td>\n",
       "      <td>positive</td>\n",
       "    </tr>\n",
       "    <tr>\n",
       "      <th>3</th>\n",
       "      <td>cdinardo21</td>\n",
       "      <td>Kentucky Brunch Brand Stout</td>\n",
       "      <td>4.98</td>\n",
       "      <td>On tap at TG for part of KBBS release day - rating 2023 version; perfect black color. This is an amazing blend richness, dessert and coffee; the barrel is perfectly complimentary and not overpowering. The sweetness is palatable rather than making your teeth hurt. The mouthfeel is thick and silky. Overall, one of the best beers I've had.</td>\n",
       "      <td>Positive</td>\n",
       "    </tr>\n",
       "    <tr>\n",
       "      <th>4</th>\n",
       "      <td>GreenBayBA</td>\n",
       "      <td>Kentucky Brunch Brand Stout</td>\n",
       "      <td>4.70</td>\n",
       "      <td>Perfect black color. I didn't see much foam, other than a brown ring. The smell is a perfect blend of maple, coffee, chocolate, and bourbon. The taste is strong with maple. Almost too strong. Chocolate follows, with coffee, bourbon, and vanilla. It is very sweet. The mouthfeel is thick, smooth, lucious, and full. Very nice. Overall, this is a wonderful beer, but there is too much maple flavor for it to be one of my favorite beers.</td>\n",
       "      <td>Positive</td>\n",
       "    </tr>\n",
       "  </tbody>\n",
       "</table>\n",
       "</div>"
      ],
      "text/plain": [
       "         username                     beername  user_rating  \\\n",
       "0  MonDak_Joe1953  Kentucky Brunch Brand Stout         4.71   \n",
       "1         Rristow  Kentucky Brunch Brand Stout         5.00   \n",
       "2     BEERchitect  Kentucky Brunch Brand Stout         4.80   \n",
       "3      cdinardo21  Kentucky Brunch Brand Stout         4.98   \n",
       "4      GreenBayBA  Kentucky Brunch Brand Stout         4.70   \n",
       "\n",
       "                                                                                                                                                                                                                                                                                                                                                                                                                                                                                                                                                                                                                                                                                                                                                                                                                                                                                                                                                                                                                                                                                                                                                                                                                                                                                                                        user_review  \\\n",
       "0                                                                                                                                                                                                                                                                                                                                                                                                                                                                                                                                                                                                                                                                                           Tap pour at the taproom. Served chilled in a small snifter glass.\\nBlack colored body. No lasting head. No lacing, but leaves a sheen.\\nAroma of dark roasted malt, bourbon barrel, maple syrup, caramel, toffee, and a bit of dark fruit/cherry.\\nTaste is sweet from the maple syrup and bourbon barrel, also vanilla. Flavors of fudge chocolate, caramel, toffee, and dark fruit - cherry and figs. Long lasting aftertaste with chocolate, bourbon, and toffee.\\nThicker mouthfeel with syrup. Higher ABV% only detected in the vapors. Quiet carbonation.\\nRich and decadent dessert beer. Treat of the day, and from the source.   \n",
       "1                                                                                                                                                                                                                                                                                                                                                                                                                                                                                                                                                                                                                                                                                                                                                                                                                                                                                                                                                                                                                                                                                                                                                                                                                            The perfect barrel aged stout. Not overly sweet, nice barrel notes with coffee and maple. Just delish!   \n",
       "2  The flirtation with maple comes to a crescendo in Toppling Goliath's imperial maple, coffee and bourbon barrel aged stout.\\n\\nKentucky Brunch Brand Stout shows that something special is up when it pours with an inky impression of black brandy equipped with sticky legging swirling around an ominously still beer. As a sultry, savory and oh-so seductive scent pulls from the onyx-black beer, the mouth waters with the scent of espresso, dark chocolate, maple, sweet bourbon and port wine. Expectedly sweet, the toasty malts bring out the flavor of maple-dipped chocolate, chocolate covered espresso bean, bourbon ball candies and whisky laced molasses.\\n\\nBold, savory, sweet and mouth coating on the middle palate, the boldness of the stout remains in check while the more roasty edges pull from the sweetness with espresso roast, toasty, smoky and baker's chocolate that all trend spicy, lightly bitter and balancing with a chest warming offset of bourbon and all of its caramel, vanilla, toasted oak and peppery whisky flavors in closure.\\n\\nObviously full, rich and lavishly malted from start to finish, the stout finishes on a drying track in an off-pastry mouthfeel of spice, light bitterness and port-like warmth. It's a masterful stout that belongs on such lofty pedestals.   \n",
       "3                                                                                                                                                                                                                                                                                                                                                                                                                                                                                                                                                                                                                                                                                                                                                                                                                                                                                                                                                                                On tap at TG for part of KBBS release day - rating 2023 version; perfect black color. This is an amazing blend richness, dessert and coffee; the barrel is perfectly complimentary and not overpowering. The sweetness is palatable rather than making your teeth hurt. The mouthfeel is thick and silky. Overall, one of the best beers I've had.   \n",
       "4                                                                                                                                                                                                                                                                                                                                                                                                                                                                                                                                                                                                                                                                                                                                                                                                                                                                                Perfect black color. I didn't see much foam, other than a brown ring. The smell is a perfect blend of maple, coffee, chocolate, and bourbon. The taste is strong with maple. Almost too strong. Chocolate follows, with coffee, bourbon, and vanilla. It is very sweet. The mouthfeel is thick, smooth, lucious, and full. Very nice. Overall, this is a wonderful beer, but there is too much maple flavor for it to be one of my favorite beers.   \n",
       "\n",
       "  sentiment  \n",
       "0  Positive  \n",
       "1  Positive  \n",
       "2  positive  \n",
       "3  Positive  \n",
       "4  Positive  "
      ]
     },
     "execution_count": 114,
     "metadata": {},
     "output_type": "execute_result"
    }
   ],
   "source": [
    "trimed_review=pd.DataFrame(beer_reviews_df.iloc[0:5,:])\n",
    "trimed_review['sentiment'] = trimed_review['user_review'].apply(lambda review:sentiment_analysis_api(review))\n",
    "trimed_review"
   ]
  },
  {
   "cell_type": "code",
   "execution_count": null,
   "id": "c88edbb8",
   "metadata": {},
   "outputs": [],
   "source": []
  }
 ],
 "metadata": {
  "kernelspec": {
   "display_name": "Python 3 (ipykernel)",
   "language": "python",
   "name": "python3"
  },
  "language_info": {
   "codemirror_mode": {
    "name": "ipython",
    "version": 3
   },
   "file_extension": ".py",
   "mimetype": "text/x-python",
   "name": "python",
   "nbconvert_exporter": "python",
   "pygments_lexer": "ipython3",
   "version": "3.9.18"
  }
 },
 "nbformat": 4,
 "nbformat_minor": 5
}
